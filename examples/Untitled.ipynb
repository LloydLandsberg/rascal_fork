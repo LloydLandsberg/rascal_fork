{
 "cells": [
  {
   "cell_type": "code",
   "execution_count": 1,
   "metadata": {},
   "outputs": [
    {
     "name": "stderr",
     "output_type": "stream",
     "text": [
      "/Users/marcolam/git/rascal/rascal/calibrator.py:21: TqdmExperimentalWarning: Using `tqdm.autonotebook.tqdm` in notebook mode. Use `tqdm.tqdm` instead to force console mode (e.g. in jupyter console)\n",
      "  from tqdm.autonotebook import tqdm\n"
     ]
    }
   ],
   "source": [
    "import numpy as np\n",
    "from astropy.io import fits\n",
    "from scipy.signal import find_peaks\n",
    "from matplotlib import pyplot as plt\n",
    "import os\n",
    "from scipy import interpolate\n",
    "\n",
    "from rascal.calibrator import Calibrator\n",
    "from rascal import models\n",
    "from rascal import util\n",
    "\n",
    "import sys"
   ]
  },
  {
   "cell_type": "code",
   "execution_count": 2,
   "metadata": {},
   "outputs": [
    {
     "ename": "ModuleNotFoundError",
     "evalue": "No module named 'gmos_longslit_fieldflattening'",
     "output_type": "error",
     "traceback": [
      "\u001b[0;31m---------------------------------------------------------------------------\u001b[0m",
      "\u001b[0;31mModuleNotFoundError\u001b[0m                       Traceback (most recent call last)",
      "\u001b[0;32m<ipython-input-2-485bc74fd63e>\u001b[0m in \u001b[0;36m<module>\u001b[0;34m\u001b[0m\n\u001b[1;32m      1\u001b[0m \u001b[0msys\u001b[0m\u001b[0;34m.\u001b[0m\u001b[0mpath\u001b[0m\u001b[0;34m.\u001b[0m\u001b[0mappend\u001b[0m\u001b[0;34m(\u001b[0m\u001b[0;34m'../../GMOSfieldflattening'\u001b[0m\u001b[0;34m)\u001b[0m\u001b[0;34m\u001b[0m\u001b[0;34m\u001b[0m\u001b[0m\n\u001b[1;32m      2\u001b[0m \u001b[0;34m\u001b[0m\u001b[0m\n\u001b[0;32m----> 3\u001b[0;31m \u001b[0;32mfrom\u001b[0m \u001b[0mgmos_longslit_fieldflattening\u001b[0m \u001b[0;32mimport\u001b[0m \u001b[0mcreate_pixel_array\u001b[0m\u001b[0;34m\u001b[0m\u001b[0;34m\u001b[0m\u001b[0m\n\u001b[0m\u001b[1;32m      4\u001b[0m \u001b[0;34m\u001b[0m\u001b[0m\n\u001b[1;32m      5\u001b[0m \u001b[0mpixels\u001b[0m \u001b[0;34m=\u001b[0m \u001b[0mcreate_pixel_array\u001b[0m\u001b[0;34m(\u001b[0m\u001b[0;34m'north'\u001b[0m\u001b[0;34m,\u001b[0m \u001b[0;36m2\u001b[0m\u001b[0;34m)\u001b[0m\u001b[0;34m\u001b[0m\u001b[0;34m\u001b[0m\u001b[0m\n",
      "\u001b[0;31mModuleNotFoundError\u001b[0m: No module named 'gmos_longslit_fieldflattening'"
     ]
    }
   ],
   "source": [
    "sys.path.append('../../GMOSfieldflattening')\n",
    "\n",
    "from gmos_longslit_fieldflattening import create_pixel_array\n",
    "\n",
    "pixels = create_pixel_array('north', 2)\n",
    "rawpix_to_pix_itp = interpolate.interp1d(np.arange(len(pixels)), pixels)"
   ]
  },
  {
   "cell_type": "code",
   "execution_count": null,
   "metadata": {},
   "outputs": [],
   "source": [
    "# Load the data\n",
    "base_dir = os.path.dirname(__file__)\n",
    "spectrum2D = fits.open(\n",
    "    os.path.join(base_dir,\n",
    "                 'data_gemini_gmos/N20181115S0215_flattened.fits'))[0].data\n",
    "\n",
    "# Collapse into 1D spectrum between row 110 and 120\n",
    "spectrum = np.median(spectrum2D[300:310], axis=0)[::-1]"
   ]
  },
  {
   "cell_type": "code",
   "execution_count": null,
   "metadata": {},
   "outputs": [],
   "source": [
    "# Identify the peaks\n",
    "peaks, _ = find_peaks(spectrum, height=1000, distance=5, threshold=None)\n",
    "peaks = util.refine_peaks(spectrum, peaks, window_width=5)\n",
    "\n",
    "peaks_shifted = rawpix_to_pix_itp(peaks)\n",
    "\n",
    "plt.figure(1, figsize=(12, 8))\n",
    "plt.clf()\n",
    "plt.plot(pixels, spectrum / spectrum.max())\n",
    "plt.scatter(peaks_shifted, spectrum[peaks.astype('int')] / spectrum.max())\n",
    "plt.title('Number of pixels: ' + str(spectrum.shape[0]))\n",
    "plt.xlabel(\"Pixel (Spectral Direction)\")\n",
    "plt.ylabel(\"Normalised Count\")\n",
    "plt.xlim(0, 3072)\n",
    "plt.grid()\n",
    "plt.tight_layout()"
   ]
  },
  {
   "cell_type": "code",
   "execution_count": null,
   "metadata": {},
   "outputs": [],
   "source": [
    "# Initialise the calibrator\n",
    "c = Calibrator(peaks_shifted,\n",
    "               num_pix=len(pixels),\n",
    "               pixel_list=pixels,\n",
    "               min_wavelength=5000.,\n",
    "               max_wavelength=9500.)\n",
    "c.set_fit_constraints(num_slopes=5000,\n",
    "                      candidate_thresh=10.,\n",
    "                      range_tolerance=500.,\n",
    "                      xbins=200,\n",
    "                      ybins=200,\n",
    "                      polydeg=4)\n",
    "\n",
    "# Vacuum wavelengths\n",
    "# blend: 5143.21509, 5146.74143\n",
    "# something weird near there, so not used: 8008.359, 8016.990\n",
    "atlas = [\n",
    "    4703.632, 4728.19041, 4766.19677, 4807.36348, 4849.16386, 4881.22627, 4890.40721, 4906.12088, 4934.58593, 4966.46490,\n",
    "    5018.56194, 5063.44827, 5163.723, 5189.191, 5497.401,\n",
    "    5560.246, 5608.290, 5913.723,\n",
    "    6754.698, 6873.185, 6967.352,\n",
    "    7032.190, 7069.167, 7149.012, 7274.940, 7386.014,\n",
    "    7505.935, 7516.721, 7637.208, 7725.887, 7893.246, 7950.362,\n",
    "    8105.921, 8117.542, 8266.794, 8410.521, 8426.963,\n",
    "    8523.783, 8670.325,\n",
    "    9125.471, 9197.161, 9227.03, 9356.787,\n",
    "    9660.435, 9787.186\n",
    "]\n",
    "\n",
    "element = ['CuAr'] * len(atlas)\n",
    "\n",
    "c.load_user_atlas(elements=element, wavelengths=atlas, vacuum=True, pressure=61700., temperature=276.55, relative_humidity=4.)\n",
    "\n",
    "c.set_peaks(constrain_poly=True)"
   ]
  },
  {
   "cell_type": "code",
   "execution_count": null,
   "metadata": {},
   "outputs": [],
   "source": [
    "# Run the wavelength calibration\n",
    "best_p, rms, residual, peak_utilisation = c.fit(max_tries=10000)"
   ]
  },
  {
   "cell_type": "code",
   "execution_count": null,
   "metadata": {},
   "outputs": [],
   "source": [
    "# Plot the solution\n",
    "c.plot_fit(spectrum, best_p, plot_atlas=True, log_spectrum=False, tolerance=5.)"
   ]
  },
  {
   "cell_type": "code",
   "execution_count": null,
   "metadata": {},
   "outputs": [],
   "source": [
    "fit_diff = c.polyval(x_fit, best_p) - y_fit\n",
    "rms = np.sqrt(np.sum(fit_diff**2 / len(x_fit)))\n",
    "\n",
    "print(\"Stdev error: {} A\".format(fit_diff.std()))\n",
    "print(\"Peaks utilisation rate: {}%\".format(peak_utilisation * 100))\n",
    "\n",
    "# Show the parameter space for searching possible solution\n",
    "c.plot_search_space()"
   ]
  }
 ],
 "metadata": {
  "kernelspec": {
   "display_name": "Python 3",
   "language": "python",
   "name": "python3"
  },
  "language_info": {
   "codemirror_mode": {
    "name": "ipython",
    "version": 3
   },
   "file_extension": ".py",
   "mimetype": "text/x-python",
   "name": "python",
   "nbconvert_exporter": "python",
   "pygments_lexer": "ipython3",
   "version": "3.8.5"
  }
 },
 "nbformat": 4,
 "nbformat_minor": 4
}
